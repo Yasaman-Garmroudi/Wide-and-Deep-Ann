{
  "cells": [
    {
      "cell_type": "code",
      "execution_count": 1,
      "id": "865f56f2-9332-4c96-a473-74aeb631290f",
      "metadata": {
        "id": "865f56f2-9332-4c96-a473-74aeb631290f"
      },
      "outputs": [],
      "source": [
        "import tensorflow as tf\n",
        "from tensorflow import keras\n",
        "from tensorflow import keras\n",
        "from sklearn.model_selection import train_test_split\n",
        "from sklearn.preprocessing import StandardScaler\n",
        "from sklearn.neural_network import MLPClassifier\n",
        "from sklearn.datasets import load_digits\n",
        "from sklearn.metrics import f1_score, accuracy_score, confusion_matrix\n",
        "from sklearn.metrics import f1_score, accuracy_score\n",
        "import pandas as pd\n",
        "from tabulate import tabulate\n",
        "import matplotlib.pyplot as plt\n",
        "import numpy as np"
      ]
    },
    {
      "cell_type": "markdown",
      "id": "6c987b3a-61a0-4639-9cf7-2c14b7b39649",
      "metadata": {
        "id": "6c987b3a-61a0-4639-9cf7-2c14b7b39649"
      },
      "source": [
        "# Prepare Data"
      ]
    },
    {
      "cell_type": "code",
      "execution_count": 2,
      "id": "b1c9edfb-326c-4ebd-bab4-ad14487cc3bf",
      "metadata": {
        "id": "b1c9edfb-326c-4ebd-bab4-ad14487cc3bf",
        "colab": {
          "base_uri": "https://localhost:8080/"
        },
        "outputId": "fdcaaf7e-0e56-42d4-c11e-fc40ac20efe6"
      },
      "outputs": [
        {
          "output_type": "stream",
          "name": "stdout",
          "text": [
            "Downloading data from https://www.cs.toronto.edu/~kriz/cifar-10-python.tar.gz\n",
            "170498071/170498071 [==============================] - 4s 0us/step\n"
          ]
        }
      ],
      "source": [
        "cifar10_dataset = keras.datasets.cifar10.load_data()\n",
        "(x_train, y_train), (x_test, y_test) = tf.keras.datasets.cifar10.load_data()\n",
        "\n",
        "X = np.concatenate((x_train, x_test), axis=0)\n",
        "y = np.concatenate((y_train, y_test), axis=0)\n",
        "\n",
        "x_temp, x_test, y_temp, y_test = train_test_split(X, y, test_size=0.15, random_state=1)\n",
        "x_train, x_val, y_train, y_val = train_test_split(x_temp, y_temp, test_size=0.15, random_state=1)"
      ]
    },
    {
      "cell_type": "code",
      "source": [
        "print(x_train.shape)\n",
        "print(x_test.shape)\n",
        "print(x_val.shape)"
      ],
      "metadata": {
        "colab": {
          "base_uri": "https://localhost:8080/"
        },
        "id": "WoGL7C3WmwXB",
        "outputId": "f11f17e9-c089-4c03-e06c-6d315d024cda"
      },
      "id": "WoGL7C3WmwXB",
      "execution_count": 3,
      "outputs": [
        {
          "output_type": "stream",
          "name": "stdout",
          "text": [
            "(43350, 32, 32, 3)\n",
            "(9000, 32, 32, 3)\n",
            "(7650, 32, 32, 3)\n"
          ]
        }
      ]
    },
    {
      "cell_type": "code",
      "execution_count": 4,
      "id": "187dc581-5c27-486c-be8c-e77925d1948b",
      "metadata": {
        "id": "187dc581-5c27-486c-be8c-e77925d1948b"
      },
      "outputs": [],
      "source": [
        "x_train, x_test, x_val = x_train/255.0, x_test/255.0,  x_val/255.0"
      ]
    },
    {
      "cell_type": "markdown",
      "source": [
        "# Define 5 Layer Model"
      ],
      "metadata": {
        "id": "E4Fv3k-o-l-I"
      },
      "id": "E4Fv3k-o-l-I"
    },
    {
      "cell_type": "code",
      "source": [
        "model = keras.models.Sequential([\n",
        "    keras.layers.Flatten(input_shape=[32, 32, 3]),\n",
        "    keras.layers.Dense(100, activation=\"relu\"),\n",
        "    keras.layers.Dense(150, activation=\"relu\"),\n",
        "    keras.layers.Dense(200, activation=\"relu\"),\n",
        "    keras.layers.Dense(120, activation=\"relu\"),\n",
        "    keras.layers.Dense(75, activation=\"relu\"),\n",
        "    keras.layers.Dense(10, activation=\"softmax\")\n",
        "])"
      ],
      "metadata": {
        "id": "tyePXVmv-lbS"
      },
      "id": "tyePXVmv-lbS",
      "execution_count": 5,
      "outputs": []
    },
    {
      "cell_type": "code",
      "source": [
        "model.summary()"
      ],
      "metadata": {
        "colab": {
          "base_uri": "https://localhost:8080/"
        },
        "id": "lREMDc8vFeuY",
        "outputId": "4fb3f688-9444-4971-bcb9-a2b2e12d02c5"
      },
      "id": "lREMDc8vFeuY",
      "execution_count": 6,
      "outputs": [
        {
          "output_type": "stream",
          "name": "stdout",
          "text": [
            "Model: \"sequential\"\n",
            "_________________________________________________________________\n",
            " Layer (type)                Output Shape              Param #   \n",
            "=================================================================\n",
            " flatten (Flatten)           (None, 3072)              0         \n",
            "                                                                 \n",
            " dense (Dense)               (None, 100)               307300    \n",
            "                                                                 \n",
            " dense_1 (Dense)             (None, 150)               15150     \n",
            "                                                                 \n",
            " dense_2 (Dense)             (None, 200)               30200     \n",
            "                                                                 \n",
            " dense_3 (Dense)             (None, 120)               24120     \n",
            "                                                                 \n",
            " dense_4 (Dense)             (None, 75)                9075      \n",
            "                                                                 \n",
            " dense_5 (Dense)             (None, 10)                760       \n",
            "                                                                 \n",
            "=================================================================\n",
            "Total params: 386605 (1.47 MB)\n",
            "Trainable params: 386605 (1.47 MB)\n",
            "Non-trainable params: 0 (0.00 Byte)\n",
            "_________________________________________________________________\n"
          ]
        }
      ]
    },
    {
      "cell_type": "markdown",
      "source": [
        "Last Layer Use Softmax"
      ],
      "metadata": {
        "id": "zHJAytXRBpI3"
      },
      "id": "zHJAytXRBpI3"
    },
    {
      "cell_type": "code",
      "source": [
        "model.compile(loss=\"sparse_categorical_crossentropy\",\n",
        "              optimizer=\"sgd\",\n",
        "              metrics=[\"accuracy\"])"
      ],
      "metadata": {
        "id": "jd8iaEqS_yAR"
      },
      "id": "jd8iaEqS_yAR",
      "execution_count": 7,
      "outputs": []
    },
    {
      "cell_type": "code",
      "source": [
        "history = model.fit(x_train, y_train, epochs=50, validation_data=(x_val, y_val))"
      ],
      "metadata": {
        "colab": {
          "base_uri": "https://localhost:8080/"
        },
        "id": "NwjKeNys_y-h",
        "outputId": "f8f5101a-0a87-45f7-c17b-d7b487a9643d"
      },
      "id": "NwjKeNys_y-h",
      "execution_count": 8,
      "outputs": [
        {
          "output_type": "stream",
          "name": "stdout",
          "text": [
            "Epoch 1/50\n",
            "1355/1355 [==============================] - 17s 11ms/step - loss: 1.9825 - accuracy: 0.2796 - val_loss: 1.8357 - val_accuracy: 0.3527\n",
            "Epoch 2/50\n",
            "1355/1355 [==============================] - 8s 6ms/step - loss: 1.7630 - accuracy: 0.3688 - val_loss: 1.7075 - val_accuracy: 0.3882\n",
            "Epoch 3/50\n",
            "1355/1355 [==============================] - 8s 6ms/step - loss: 1.6724 - accuracy: 0.4014 - val_loss: 1.6668 - val_accuracy: 0.4060\n",
            "Epoch 4/50\n",
            "1355/1355 [==============================] - 8s 6ms/step - loss: 1.6135 - accuracy: 0.4239 - val_loss: 1.5857 - val_accuracy: 0.4405\n",
            "Epoch 5/50\n",
            "1355/1355 [==============================] - 8s 6ms/step - loss: 1.5702 - accuracy: 0.4404 - val_loss: 1.5603 - val_accuracy: 0.4421\n",
            "Epoch 6/50\n",
            "1355/1355 [==============================] - 6s 5ms/step - loss: 1.5269 - accuracy: 0.4536 - val_loss: 1.5662 - val_accuracy: 0.4391\n",
            "Epoch 7/50\n",
            "1355/1355 [==============================] - 8s 6ms/step - loss: 1.4965 - accuracy: 0.4675 - val_loss: 1.5476 - val_accuracy: 0.4412\n",
            "Epoch 8/50\n",
            "1355/1355 [==============================] - 7s 5ms/step - loss: 1.4701 - accuracy: 0.4767 - val_loss: 1.5610 - val_accuracy: 0.4433\n",
            "Epoch 9/50\n",
            "1355/1355 [==============================] - 8s 6ms/step - loss: 1.4432 - accuracy: 0.4853 - val_loss: 1.4629 - val_accuracy: 0.4775\n",
            "Epoch 10/50\n",
            "1355/1355 [==============================] - 9s 7ms/step - loss: 1.4177 - accuracy: 0.4938 - val_loss: 1.5217 - val_accuracy: 0.4527\n",
            "Epoch 11/50\n",
            "1355/1355 [==============================] - 7s 5ms/step - loss: 1.3963 - accuracy: 0.5008 - val_loss: 1.4722 - val_accuracy: 0.4664\n",
            "Epoch 12/50\n",
            "1355/1355 [==============================] - 8s 6ms/step - loss: 1.3771 - accuracy: 0.5076 - val_loss: 1.4820 - val_accuracy: 0.4732\n",
            "Epoch 13/50\n",
            "1355/1355 [==============================] - 7s 5ms/step - loss: 1.3577 - accuracy: 0.5136 - val_loss: 1.4315 - val_accuracy: 0.4910\n",
            "Epoch 14/50\n",
            "1355/1355 [==============================] - 7s 5ms/step - loss: 1.3405 - accuracy: 0.5194 - val_loss: 1.4592 - val_accuracy: 0.4778\n",
            "Epoch 15/50\n",
            "1355/1355 [==============================] - 8s 6ms/step - loss: 1.3203 - accuracy: 0.5287 - val_loss: 1.5131 - val_accuracy: 0.4651\n",
            "Epoch 16/50\n",
            "1355/1355 [==============================] - 7s 5ms/step - loss: 1.3017 - accuracy: 0.5367 - val_loss: 1.4410 - val_accuracy: 0.4929\n",
            "Epoch 17/50\n",
            "1355/1355 [==============================] - 8s 6ms/step - loss: 1.2867 - accuracy: 0.5411 - val_loss: 1.4234 - val_accuracy: 0.4912\n",
            "Epoch 18/50\n",
            "1355/1355 [==============================] - 7s 5ms/step - loss: 1.2683 - accuracy: 0.5470 - val_loss: 1.4305 - val_accuracy: 0.4923\n",
            "Epoch 19/50\n",
            "1355/1355 [==============================] - 8s 6ms/step - loss: 1.2554 - accuracy: 0.5529 - val_loss: 1.4328 - val_accuracy: 0.4922\n",
            "Epoch 20/50\n",
            "1355/1355 [==============================] - 8s 6ms/step - loss: 1.2389 - accuracy: 0.5568 - val_loss: 1.4494 - val_accuracy: 0.4848\n",
            "Epoch 21/50\n",
            "1355/1355 [==============================] - 7s 5ms/step - loss: 1.2225 - accuracy: 0.5637 - val_loss: 1.4323 - val_accuracy: 0.4974\n",
            "Epoch 22/50\n",
            "1355/1355 [==============================] - 8s 6ms/step - loss: 1.2097 - accuracy: 0.5663 - val_loss: 1.4353 - val_accuracy: 0.4979\n",
            "Epoch 23/50\n",
            "1355/1355 [==============================] - 7s 5ms/step - loss: 1.1921 - accuracy: 0.5738 - val_loss: 1.4073 - val_accuracy: 0.5048\n",
            "Epoch 24/50\n",
            "1355/1355 [==============================] - 8s 6ms/step - loss: 1.1760 - accuracy: 0.5793 - val_loss: 1.4619 - val_accuracy: 0.4905\n",
            "Epoch 25/50\n",
            "1355/1355 [==============================] - 7s 5ms/step - loss: 1.1636 - accuracy: 0.5830 - val_loss: 1.4112 - val_accuracy: 0.5052\n",
            "Epoch 26/50\n",
            "1355/1355 [==============================] - 8s 6ms/step - loss: 1.1510 - accuracy: 0.5898 - val_loss: 1.4038 - val_accuracy: 0.5067\n",
            "Epoch 27/50\n",
            "1355/1355 [==============================] - 8s 6ms/step - loss: 1.1355 - accuracy: 0.5922 - val_loss: 1.3884 - val_accuracy: 0.5182\n",
            "Epoch 28/50\n",
            "1355/1355 [==============================] - 7s 5ms/step - loss: 1.1202 - accuracy: 0.5981 - val_loss: 1.4361 - val_accuracy: 0.5029\n",
            "Epoch 29/50\n",
            "1355/1355 [==============================] - 8s 6ms/step - loss: 1.1072 - accuracy: 0.6029 - val_loss: 1.4254 - val_accuracy: 0.5105\n",
            "Epoch 30/50\n",
            "1355/1355 [==============================] - 7s 5ms/step - loss: 1.0963 - accuracy: 0.6067 - val_loss: 1.4225 - val_accuracy: 0.5020\n",
            "Epoch 31/50\n",
            "1355/1355 [==============================] - 8s 6ms/step - loss: 1.0815 - accuracy: 0.6131 - val_loss: 1.4186 - val_accuracy: 0.5119\n",
            "Epoch 32/50\n",
            "1355/1355 [==============================] - 9s 6ms/step - loss: 1.0688 - accuracy: 0.6184 - val_loss: 1.4197 - val_accuracy: 0.5176\n",
            "Epoch 33/50\n",
            "1355/1355 [==============================] - 8s 6ms/step - loss: 1.0563 - accuracy: 0.6228 - val_loss: 1.4647 - val_accuracy: 0.4975\n",
            "Epoch 34/50\n",
            "1355/1355 [==============================] - 8s 6ms/step - loss: 1.0449 - accuracy: 0.6284 - val_loss: 1.4218 - val_accuracy: 0.5094\n",
            "Epoch 35/50\n",
            "1355/1355 [==============================] - 7s 5ms/step - loss: 1.0263 - accuracy: 0.6329 - val_loss: 1.4407 - val_accuracy: 0.5035\n",
            "Epoch 36/50\n",
            "1355/1355 [==============================] - 8s 6ms/step - loss: 1.0166 - accuracy: 0.6357 - val_loss: 1.4455 - val_accuracy: 0.5144\n",
            "Epoch 37/50\n",
            "1355/1355 [==============================] - 8s 6ms/step - loss: 1.0036 - accuracy: 0.6425 - val_loss: 1.4239 - val_accuracy: 0.5188\n",
            "Epoch 38/50\n",
            "1355/1355 [==============================] - 7s 6ms/step - loss: 0.9896 - accuracy: 0.6460 - val_loss: 1.4887 - val_accuracy: 0.5035\n",
            "Epoch 39/50\n",
            "1355/1355 [==============================] - 8s 6ms/step - loss: 0.9793 - accuracy: 0.6501 - val_loss: 1.4866 - val_accuracy: 0.5026\n",
            "Epoch 40/50\n",
            "1355/1355 [==============================] - 7s 5ms/step - loss: 0.9671 - accuracy: 0.6543 - val_loss: 1.5043 - val_accuracy: 0.5068\n",
            "Epoch 41/50\n",
            "1355/1355 [==============================] - 7s 5ms/step - loss: 0.9547 - accuracy: 0.6570 - val_loss: 1.4498 - val_accuracy: 0.5145\n",
            "Epoch 42/50\n",
            "1355/1355 [==============================] - 7s 5ms/step - loss: 0.9425 - accuracy: 0.6621 - val_loss: 1.4674 - val_accuracy: 0.5150\n",
            "Epoch 43/50\n",
            "1355/1355 [==============================] - 8s 6ms/step - loss: 0.9304 - accuracy: 0.6681 - val_loss: 1.4641 - val_accuracy: 0.5148\n",
            "Epoch 44/50\n",
            "1355/1355 [==============================] - 8s 6ms/step - loss: 0.9120 - accuracy: 0.6745 - val_loss: 1.5033 - val_accuracy: 0.5056\n",
            "Epoch 45/50\n",
            "1355/1355 [==============================] - 7s 5ms/step - loss: 0.9003 - accuracy: 0.6778 - val_loss: 1.5031 - val_accuracy: 0.5064\n",
            "Epoch 46/50\n",
            "1355/1355 [==============================] - 8s 6ms/step - loss: 0.8975 - accuracy: 0.6782 - val_loss: 1.5265 - val_accuracy: 0.5038\n",
            "Epoch 47/50\n",
            "1355/1355 [==============================] - 6s 5ms/step - loss: 0.8834 - accuracy: 0.6817 - val_loss: 1.5090 - val_accuracy: 0.5112\n",
            "Epoch 48/50\n",
            "1355/1355 [==============================] - 8s 6ms/step - loss: 0.8676 - accuracy: 0.6890 - val_loss: 1.5134 - val_accuracy: 0.5176\n",
            "Epoch 49/50\n",
            "1355/1355 [==============================] - 7s 5ms/step - loss: 0.8559 - accuracy: 0.6911 - val_loss: 1.5460 - val_accuracy: 0.5047\n",
            "Epoch 50/50\n",
            "1355/1355 [==============================] - 7s 5ms/step - loss: 0.8471 - accuracy: 0.6932 - val_loss: 1.6111 - val_accuracy: 0.4925\n"
          ]
        }
      ]
    },
    {
      "cell_type": "code",
      "source": [
        "y_pred = model.predict(x_test)\n",
        "\n",
        "y_pred_labels = y_pred.argmax(axis=1)\n",
        "\n",
        "f1 = f1_score(y_test, y_pred_labels, average='weighted')\n",
        "accuracy = accuracy_score(y_test, y_pred_labels)\n",
        "\n",
        "print(\"Weighted F1 Score:\", f1)\n",
        "print(\"Accuracy:\", accuracy)"
      ],
      "metadata": {
        "colab": {
          "base_uri": "https://localhost:8080/"
        },
        "id": "l4TW03ps_3jm",
        "outputId": "31414497-d1f6-44e3-b830-7bf5b8b6de27"
      },
      "id": "l4TW03ps_3jm",
      "execution_count": 9,
      "outputs": [
        {
          "output_type": "stream",
          "name": "stdout",
          "text": [
            "282/282 [==============================] - 1s 2ms/step\n",
            "Weighted F1 Score: 0.5109039676808143\n",
            "Accuracy: 0.5075555555555555\n"
          ]
        }
      ]
    },
    {
      "cell_type": "markdown",
      "id": "f5ac2135-d9ca-4e45-a2b8-585891173466",
      "metadata": {
        "id": "f5ac2135-d9ca-4e45-a2b8-585891173466"
      },
      "source": [
        "# Optimized Model"
      ]
    },
    {
      "cell_type": "code",
      "source": [
        "!pip install keras-tuner tensorflow\n",
        "\n",
        "import tensorflow as tf\n",
        "from tensorflow import keras\n",
        "from tensorflow.keras import layers\n",
        "from kerastuner.tuners import RandomSearch\n",
        "\n",
        "import time\n",
        "\n",
        "start_time = time.time()\n",
        "\n",
        "# Define a function to build the model\n",
        "def build_model(hp):\n",
        "    model = keras.Sequential()\n",
        "    model.add(layers.Flatten(input_shape=(32, 32, 3)))\n",
        "\n",
        "    # Tune the number of dense layers (between 6 and 10 layers)\n",
        "    num_layers = hp.Int('num_layers', min_value=6, max_value=10)\n",
        "\n",
        "    for i in range(num_layers):\n",
        "        # Tune the number of units in each dense layer (between 128 and 256)\n",
        "        units = hp.Int(f'units_{i}', min_value=128, max_value=256, step=32)\n",
        "        # Tune the activation function for each dense layer\n",
        "        activation = hp.Choice(f'activation_{i}', values=['relu', 'tanh'])\n",
        "        model.add(layers.Dense(units=units, activation=activation))\n",
        "\n",
        "    model.add(layers.Dense(10, activation='softmax'))\n",
        "\n",
        "    # Tune the learning rate for the optimizer\n",
        "    learning_rate = hp.Choice('learning_rate', values=[1e-2, 1e-3, 1e-4])\n",
        "\n",
        "    model.compile(optimizer=keras.optimizers.Adam(learning_rate=learning_rate),\n",
        "                  loss='sparse_categorical_crossentropy',\n",
        "                  metrics=['accuracy'])\n",
        "\n",
        "    return model\n",
        "\n",
        "# Initialize the tuner\n",
        "tuner = RandomSearch(\n",
        "    build_model,\n",
        "    objective='val_accuracy',\n",
        "    max_trials=5,\n",
        "    directory='my_tuner_dir',\n",
        "    project_name='cifar10_hyperparameter_tuning'\n",
        ")\n",
        "\n",
        "# Search for the best hyperparameters\n",
        "tuner.search(x_train, y_train, epochs=5, validation_data=(x_val, y_val))\n",
        "\n",
        "# Get the best hyperparameters\n",
        "best_hps = tuner.get_best_hyperparameters(num_trials=1)[0]\n",
        "\n",
        "# Build the best model\n",
        "best_model = tuner.hypermodel.build(best_hps)\n",
        "\n",
        "end_time = time.time()\n",
        "\n",
        "execution_time = end_time - start_time\n",
        "print(f\"Execution time: {execution_time:.2f} seconds\")\n"
      ],
      "metadata": {
        "colab": {
          "base_uri": "https://localhost:8080/"
        },
        "id": "E4haYY05qLQI",
        "outputId": "74312a2a-398d-4461-b6be-dfe5e34099a9"
      },
      "id": "E4haYY05qLQI",
      "execution_count": 10,
      "outputs": [
        {
          "output_type": "stream",
          "name": "stdout",
          "text": [
            "Trial 5 Complete [00h 01m 48s]\n",
            "val_accuracy: 0.3937254846096039\n",
            "\n",
            "Best val_accuracy So Far: 0.45764705538749695\n",
            "Total elapsed time: 00h 08m 22s\n",
            "Execution time: 502.49 seconds\n"
          ]
        }
      ]
    },
    {
      "cell_type": "markdown",
      "source": [
        "Last Layer activation : Softmax"
      ],
      "metadata": {
        "id": "GdnPY92LoIJD"
      },
      "id": "GdnPY92LoIJD"
    },
    {
      "cell_type": "code",
      "execution_count": 11,
      "id": "e739c031-8f84-4c60-98b4-e9aaf6eb78e4",
      "metadata": {
        "colab": {
          "base_uri": "https://localhost:8080/"
        },
        "id": "e739c031-8f84-4c60-98b4-e9aaf6eb78e4",
        "outputId": "40772382-3cd1-49b6-86f1-47eda9d9c306"
      },
      "outputs": [
        {
          "output_type": "stream",
          "name": "stdout",
          "text": [
            "Model: \"sequential_1\"\n",
            "_________________________________________________________________\n",
            " Layer (type)                Output Shape              Param #   \n",
            "=================================================================\n",
            " flatten_1 (Flatten)         (None, 3072)              0         \n",
            "                                                                 \n",
            " dense_8 (Dense)             (None, 128)               393344    \n",
            "                                                                 \n",
            " dense_9 (Dense)             (None, 224)               28896     \n",
            "                                                                 \n",
            " dense_10 (Dense)            (None, 224)               50400     \n",
            "                                                                 \n",
            " dense_11 (Dense)            (None, 256)               57600     \n",
            "                                                                 \n",
            " dense_12 (Dense)            (None, 224)               57568     \n",
            "                                                                 \n",
            " dense_13 (Dense)            (None, 128)               28800     \n",
            "                                                                 \n",
            " dense_14 (Dense)            (None, 10)                1290      \n",
            "                                                                 \n",
            "=================================================================\n",
            "Total params: 617898 (2.36 MB)\n",
            "Trainable params: 617898 (2.36 MB)\n",
            "Non-trainable params: 0 (0.00 Byte)\n",
            "_________________________________________________________________\n"
          ]
        }
      ],
      "source": [
        "best_model.summary()"
      ]
    },
    {
      "cell_type": "code",
      "execution_count": 12,
      "id": "df70f038-6509-4cfd-bb9e-e378ee3a5d9f",
      "metadata": {
        "id": "df70f038-6509-4cfd-bb9e-e378ee3a5d9f"
      },
      "outputs": [],
      "source": [
        "loss_fn = keras.losses.SparseCategoricalCrossentropy()\n",
        "\n",
        "best_model.compile(loss=loss_fn,\n",
        "              optimizer=\"sgd\",\n",
        "              metrics=[\"accuracy\"])"
      ]
    },
    {
      "cell_type": "code",
      "execution_count": 13,
      "id": "2dc38a75-d238-4438-b6ae-340f2dd1d44b",
      "metadata": {
        "colab": {
          "base_uri": "https://localhost:8080/"
        },
        "id": "2dc38a75-d238-4438-b6ae-340f2dd1d44b",
        "outputId": "cbe55d2f-67ef-4a2e-fcab-4ee915c97c11"
      },
      "outputs": [
        {
          "output_type": "stream",
          "name": "stdout",
          "text": [
            "Epoch 1/50\n",
            "1355/1355 [==============================] - 20s 14ms/step - loss: 1.9525 - accuracy: 0.2899 - val_loss: 1.7832 - val_accuracy: 0.3593\n",
            "Epoch 2/50\n",
            "1355/1355 [==============================] - 19s 14ms/step - loss: 1.7421 - accuracy: 0.3685 - val_loss: 1.7208 - val_accuracy: 0.3859\n",
            "Epoch 3/50\n",
            "1355/1355 [==============================] - 15s 11ms/step - loss: 1.6461 - accuracy: 0.4096 - val_loss: 1.6045 - val_accuracy: 0.4244\n",
            "Epoch 4/50\n",
            "1355/1355 [==============================] - 10s 7ms/step - loss: 1.5789 - accuracy: 0.4317 - val_loss: 1.6083 - val_accuracy: 0.4263\n",
            "Epoch 5/50\n",
            "1355/1355 [==============================] - 10s 7ms/step - loss: 1.5262 - accuracy: 0.4537 - val_loss: 1.5975 - val_accuracy: 0.4362\n",
            "Epoch 6/50\n",
            "1355/1355 [==============================] - 10s 8ms/step - loss: 1.4873 - accuracy: 0.4644 - val_loss: 1.5438 - val_accuracy: 0.4444\n",
            "Epoch 7/50\n",
            "1355/1355 [==============================] - 11s 8ms/step - loss: 1.4512 - accuracy: 0.4789 - val_loss: 1.4890 - val_accuracy: 0.4712\n",
            "Epoch 8/50\n",
            "1355/1355 [==============================] - 10s 7ms/step - loss: 1.4152 - accuracy: 0.4906 - val_loss: 1.4564 - val_accuracy: 0.4795\n",
            "Epoch 9/50\n",
            "1355/1355 [==============================] - 11s 8ms/step - loss: 1.3909 - accuracy: 0.5014 - val_loss: 1.4802 - val_accuracy: 0.4689\n",
            "Epoch 10/50\n",
            "1355/1355 [==============================] - 11s 8ms/step - loss: 1.3647 - accuracy: 0.5113 - val_loss: 1.4515 - val_accuracy: 0.4793\n",
            "Epoch 11/50\n",
            "1355/1355 [==============================] - 12s 9ms/step - loss: 1.3392 - accuracy: 0.5177 - val_loss: 1.4412 - val_accuracy: 0.4822\n",
            "Epoch 12/50\n",
            "1355/1355 [==============================] - 11s 8ms/step - loss: 1.3162 - accuracy: 0.5284 - val_loss: 1.5110 - val_accuracy: 0.4604\n",
            "Epoch 13/50\n",
            "1355/1355 [==============================] - 11s 8ms/step - loss: 1.2918 - accuracy: 0.5381 - val_loss: 1.3891 - val_accuracy: 0.5088\n",
            "Epoch 14/50\n",
            "1355/1355 [==============================] - 10s 8ms/step - loss: 1.2704 - accuracy: 0.5451 - val_loss: 1.4247 - val_accuracy: 0.4931\n",
            "Epoch 15/50\n",
            "1355/1355 [==============================] - 12s 9ms/step - loss: 1.2524 - accuracy: 0.5540 - val_loss: 1.4148 - val_accuracy: 0.4924\n",
            "Epoch 16/50\n",
            "1355/1355 [==============================] - 11s 8ms/step - loss: 1.2314 - accuracy: 0.5586 - val_loss: 1.4001 - val_accuracy: 0.5092\n",
            "Epoch 17/50\n",
            "1355/1355 [==============================] - 13s 9ms/step - loss: 1.2095 - accuracy: 0.5696 - val_loss: 1.4392 - val_accuracy: 0.5037\n",
            "Epoch 18/50\n",
            "1355/1355 [==============================] - 12s 9ms/step - loss: 1.1927 - accuracy: 0.5751 - val_loss: 1.3839 - val_accuracy: 0.5106\n",
            "Epoch 19/50\n",
            "1355/1355 [==============================] - 10s 7ms/step - loss: 1.1690 - accuracy: 0.5821 - val_loss: 1.4869 - val_accuracy: 0.4769\n",
            "Epoch 20/50\n",
            "1355/1355 [==============================] - 10s 7ms/step - loss: 1.1539 - accuracy: 0.5867 - val_loss: 1.3861 - val_accuracy: 0.5107\n",
            "Epoch 21/50\n",
            "1355/1355 [==============================] - 11s 8ms/step - loss: 1.1372 - accuracy: 0.5930 - val_loss: 1.4154 - val_accuracy: 0.5048\n",
            "Epoch 22/50\n",
            "1355/1355 [==============================] - 11s 8ms/step - loss: 1.1193 - accuracy: 0.6012 - val_loss: 1.4414 - val_accuracy: 0.4990\n",
            "Epoch 23/50\n",
            "1355/1355 [==============================] - 11s 8ms/step - loss: 1.1003 - accuracy: 0.6077 - val_loss: 1.5313 - val_accuracy: 0.4880\n",
            "Epoch 24/50\n",
            "1355/1355 [==============================] - 10s 8ms/step - loss: 1.0824 - accuracy: 0.6124 - val_loss: 1.4150 - val_accuracy: 0.5162\n",
            "Epoch 25/50\n",
            "1355/1355 [==============================] - 10s 7ms/step - loss: 1.0627 - accuracy: 0.6193 - val_loss: 1.4293 - val_accuracy: 0.5071\n",
            "Epoch 26/50\n",
            "1355/1355 [==============================] - 12s 9ms/step - loss: 1.0459 - accuracy: 0.6259 - val_loss: 1.3945 - val_accuracy: 0.5170\n",
            "Epoch 27/50\n",
            "1355/1355 [==============================] - 12s 9ms/step - loss: 1.0247 - accuracy: 0.6316 - val_loss: 1.4395 - val_accuracy: 0.5064\n",
            "Epoch 28/50\n",
            "1355/1355 [==============================] - 11s 8ms/step - loss: 1.0069 - accuracy: 0.6415 - val_loss: 1.5625 - val_accuracy: 0.4841\n",
            "Epoch 29/50\n",
            "1355/1355 [==============================] - 10s 7ms/step - loss: 0.9916 - accuracy: 0.6451 - val_loss: 1.5902 - val_accuracy: 0.4731\n",
            "Epoch 30/50\n",
            "1355/1355 [==============================] - 10s 7ms/step - loss: 0.9758 - accuracy: 0.6508 - val_loss: 1.4024 - val_accuracy: 0.5284\n",
            "Epoch 31/50\n",
            "1355/1355 [==============================] - 11s 8ms/step - loss: 0.9597 - accuracy: 0.6575 - val_loss: 1.4215 - val_accuracy: 0.5254\n",
            "Epoch 32/50\n",
            "1355/1355 [==============================] - 11s 8ms/step - loss: 0.9367 - accuracy: 0.6655 - val_loss: 1.4637 - val_accuracy: 0.5089\n",
            "Epoch 33/50\n",
            "1355/1355 [==============================] - 12s 9ms/step - loss: 0.9189 - accuracy: 0.6745 - val_loss: 1.4357 - val_accuracy: 0.5216\n",
            "Epoch 34/50\n",
            "1355/1355 [==============================] - 11s 8ms/step - loss: 0.8980 - accuracy: 0.6789 - val_loss: 1.4694 - val_accuracy: 0.5173\n",
            "Epoch 35/50\n",
            "1355/1355 [==============================] - 9s 7ms/step - loss: 0.8838 - accuracy: 0.6846 - val_loss: 1.4447 - val_accuracy: 0.5250\n",
            "Epoch 36/50\n",
            "1355/1355 [==============================] - 12s 9ms/step - loss: 0.8673 - accuracy: 0.6903 - val_loss: 1.4610 - val_accuracy: 0.5320\n",
            "Epoch 37/50\n",
            "1355/1355 [==============================] - 11s 8ms/step - loss: 0.8477 - accuracy: 0.6988 - val_loss: 1.5702 - val_accuracy: 0.5007\n",
            "Epoch 38/50\n",
            "1355/1355 [==============================] - 10s 8ms/step - loss: 0.8284 - accuracy: 0.7065 - val_loss: 1.5431 - val_accuracy: 0.5043\n",
            "Epoch 39/50\n",
            "1355/1355 [==============================] - 10s 8ms/step - loss: 0.8143 - accuracy: 0.7106 - val_loss: 1.5174 - val_accuracy: 0.5193\n",
            "Epoch 40/50\n",
            "1355/1355 [==============================] - 12s 9ms/step - loss: 0.7922 - accuracy: 0.7164 - val_loss: 1.5375 - val_accuracy: 0.5197\n",
            "Epoch 41/50\n",
            "1355/1355 [==============================] - 11s 8ms/step - loss: 0.7746 - accuracy: 0.7238 - val_loss: 1.5371 - val_accuracy: 0.5207\n",
            "Epoch 42/50\n",
            "1355/1355 [==============================] - 11s 8ms/step - loss: 0.7594 - accuracy: 0.7296 - val_loss: 1.5478 - val_accuracy: 0.5238\n",
            "Epoch 43/50\n",
            "1355/1355 [==============================] - 11s 8ms/step - loss: 0.7424 - accuracy: 0.7365 - val_loss: 1.5562 - val_accuracy: 0.5195\n",
            "Epoch 44/50\n",
            "1355/1355 [==============================] - 9s 7ms/step - loss: 0.7219 - accuracy: 0.7427 - val_loss: 1.5917 - val_accuracy: 0.5200\n",
            "Epoch 45/50\n",
            "1355/1355 [==============================] - 11s 8ms/step - loss: 0.7034 - accuracy: 0.7503 - val_loss: 1.7025 - val_accuracy: 0.5009\n",
            "Epoch 46/50\n",
            "1355/1355 [==============================] - 11s 8ms/step - loss: 0.6854 - accuracy: 0.7555 - val_loss: 1.6651 - val_accuracy: 0.5169\n",
            "Epoch 47/50\n",
            "1355/1355 [==============================] - 11s 8ms/step - loss: 0.6695 - accuracy: 0.7612 - val_loss: 1.7299 - val_accuracy: 0.5010\n",
            "Epoch 48/50\n",
            "1355/1355 [==============================] - 10s 8ms/step - loss: 0.6501 - accuracy: 0.7710 - val_loss: 1.7860 - val_accuracy: 0.5069\n",
            "Epoch 49/50\n",
            "1355/1355 [==============================] - 11s 8ms/step - loss: 0.6359 - accuracy: 0.7729 - val_loss: 1.7529 - val_accuracy: 0.5182\n",
            "Epoch 50/50\n",
            "1355/1355 [==============================] - 11s 8ms/step - loss: 0.6141 - accuracy: 0.7814 - val_loss: 1.7313 - val_accuracy: 0.5108\n"
          ]
        }
      ],
      "source": [
        "history = best_model.fit(x_train, y_train, epochs=50, validation_data=(x_val, y_val))"
      ]
    },
    {
      "cell_type": "markdown",
      "source": [
        "# Data Scores"
      ],
      "metadata": {
        "id": "79allSOHBTCO"
      },
      "id": "79allSOHBTCO"
    },
    {
      "cell_type": "markdown",
      "source": [
        "roc_auc Parameters is for binary classification and does not use in muli class classification."
      ],
      "metadata": {
        "id": "aMRIUMU0_Cb0"
      },
      "id": "aMRIUMU0_Cb0"
    },
    {
      "cell_type": "code",
      "source": [
        "y_train_pred_labels = best_model.predict(x_train).argmax(axis=1)\n",
        "y_val_pred_labels = best_model.predict(x_val).argmax(axis=1)\n",
        "y_test_pred_labels = best_model.predict(x_test).argmax(axis=1)\n",
        "\n",
        "train_accuracy = accuracy_score(y_train, y_train_pred_labels)\n",
        "val_accuracy = accuracy_score(y_val, y_val_pred_labels)\n",
        "test_accuracy = accuracy_score(y_test, y_test_pred_labels)\n",
        "\n",
        "train_f1 = f1_score(y_train, y_train_pred_labels, average='weighted')\n",
        "val_f1 = f1_score(y_val, y_val_pred_labels, average='weighted')\n",
        "test_f1 = f1_score(y_test, y_test_pred_labels, average='weighted')\n",
        "\n",
        "data = {\n",
        "    'Dataset': ['Train', 'Validation', 'Test'],\n",
        "    'Accuracy': [train_accuracy, val_accuracy, test_accuracy],\n",
        "    'F1 Score': [train_f1, val_f1, test_f1]\n",
        "}\n",
        "\n",
        "results_df = pd.DataFrame(data)\n",
        "\n",
        "table = tabulate(results_df, headers='keys', tablefmt='fancy_grid')\n",
        "\n",
        "print(table)"
      ],
      "metadata": {
        "colab": {
          "base_uri": "https://localhost:8080/"
        },
        "id": "-6e_e7kBBGll",
        "outputId": "d5b3e2be-80cb-4745-f600-c878d949dab2"
      },
      "id": "-6e_e7kBBGll",
      "execution_count": 14,
      "outputs": [
        {
          "output_type": "stream",
          "name": "stdout",
          "text": [
            "1355/1355 [==============================] - 7s 5ms/step\n",
            "240/240 [==============================] - 2s 6ms/step\n",
            "282/282 [==============================] - 1s 3ms/step\n",
            "╒════╤════════════╤════════════╤════════════╕\n",
            "│    │ Dataset    │   Accuracy │   F1 Score │\n",
            "╞════╪════════════╪════════════╪════════════╡\n",
            "│  0 │ Train      │   0.801269 │   0.803477 │\n",
            "├────┼────────────┼────────────┼────────────┤\n",
            "│  1 │ Validation │   0.51085  │   0.51222  │\n",
            "├────┼────────────┼────────────┼────────────┤\n",
            "│  2 │ Test       │   0.516444 │   0.518744 │\n",
            "╘════╧════════════╧════════════╧════════════╛\n"
          ]
        }
      ]
    },
    {
      "cell_type": "markdown",
      "source": [
        "# Wide and Deep Model"
      ],
      "metadata": {
        "id": "hQXeIQHVDKRv"
      },
      "id": "hQXeIQHVDKRv"
    },
    {
      "cell_type": "code",
      "source": [
        "def create_wide_and_deep_model():\n",
        "    input_layer = tf.keras.Input(shape=(32, 32, 3))\n",
        "\n",
        "    wide = layers.Flatten()(input_layer)\n",
        "    wide = layers.Dense(128, activation='relu')(wide)\n",
        "    wide = layers.Dense(64, activation='relu')(wide)\n",
        "\n",
        "    deep = layers.Conv2D(32, (3, 3), activation='relu')(input_layer)\n",
        "    deep = layers.MaxPooling2D((2, 2))(deep)\n",
        "    deep = layers.Conv2D(64, (3, 3), activation='relu')(deep)\n",
        "\n",
        "    deep = layers.Flatten()(deep)\n",
        "\n",
        "    combined = layers.concatenate([wide, deep])\n",
        "\n",
        "    combined = layers.Dense(64, activation='relu')(combined)\n",
        "    output_layer = layers.Dense(10, activation='softmax')(combined)\n",
        "\n",
        "    model = keras.models.Model(inputs=input_layer, outputs=output_layer)\n",
        "\n",
        "    return model\n",
        "\n",
        "wd_model = create_wide_and_deep_model()\n",
        "\n",
        "wd_model.compile(optimizer='adam',\n",
        "              loss='sparse_categorical_crossentropy',\n",
        "              metrics=['accuracy'])\n",
        "\n",
        "wd_model.summary()"
      ],
      "metadata": {
        "colab": {
          "base_uri": "https://localhost:8080/"
        },
        "id": "BlyCzjfNGyt8",
        "outputId": "1c51b3a7-5c08-492b-d05d-cd28efb49791"
      },
      "id": "BlyCzjfNGyt8",
      "execution_count": 15,
      "outputs": [
        {
          "output_type": "stream",
          "name": "stdout",
          "text": [
            "Model: \"model\"\n",
            "__________________________________________________________________________________________________\n",
            " Layer (type)                Output Shape                 Param #   Connected to                  \n",
            "==================================================================================================\n",
            " input_1 (InputLayer)        [(None, 32, 32, 3)]          0         []                            \n",
            "                                                                                                  \n",
            " conv2d (Conv2D)             (None, 30, 30, 32)           896       ['input_1[0][0]']             \n",
            "                                                                                                  \n",
            " flatten_2 (Flatten)         (None, 3072)                 0         ['input_1[0][0]']             \n",
            "                                                                                                  \n",
            " max_pooling2d (MaxPooling2  (None, 15, 15, 32)           0         ['conv2d[0][0]']              \n",
            " D)                                                                                               \n",
            "                                                                                                  \n",
            " dense_15 (Dense)            (None, 128)                  393344    ['flatten_2[0][0]']           \n",
            "                                                                                                  \n",
            " conv2d_1 (Conv2D)           (None, 13, 13, 64)           18496     ['max_pooling2d[0][0]']       \n",
            "                                                                                                  \n",
            " dense_16 (Dense)            (None, 64)                   8256      ['dense_15[0][0]']            \n",
            "                                                                                                  \n",
            " flatten_3 (Flatten)         (None, 10816)                0         ['conv2d_1[0][0]']            \n",
            "                                                                                                  \n",
            " concatenate (Concatenate)   (None, 10880)                0         ['dense_16[0][0]',            \n",
            "                                                                     'flatten_3[0][0]']           \n",
            "                                                                                                  \n",
            " dense_17 (Dense)            (None, 64)                   696384    ['concatenate[0][0]']         \n",
            "                                                                                                  \n",
            " dense_18 (Dense)            (None, 10)                   650       ['dense_17[0][0]']            \n",
            "                                                                                                  \n",
            "==================================================================================================\n",
            "Total params: 1118026 (4.26 MB)\n",
            "Trainable params: 1118026 (4.26 MB)\n",
            "Non-trainable params: 0 (0.00 Byte)\n",
            "__________________________________________________________________________________________________\n"
          ]
        }
      ]
    },
    {
      "cell_type": "code",
      "source": [
        "history = wd_model.fit(x_train, y_train, epochs=10,\n",
        "                    validation_data=(x_val, y_val))"
      ],
      "metadata": {
        "colab": {
          "base_uri": "https://localhost:8080/"
        },
        "id": "QIy6qFnQIb3J",
        "outputId": "ff8c990c-c95c-4f0f-8d7e-cf8c8153f733"
      },
      "id": "QIy6qFnQIb3J",
      "execution_count": 16,
      "outputs": [
        {
          "output_type": "stream",
          "name": "stdout",
          "text": [
            "Epoch 1/10\n",
            "1355/1355 [==============================] - 70s 51ms/step - loss: 1.4252 - accuracy: 0.4884 - val_loss: 1.1654 - val_accuracy: 0.5855\n",
            "Epoch 2/10\n",
            "1355/1355 [==============================] - 68s 50ms/step - loss: 1.0505 - accuracy: 0.6308 - val_loss: 1.0164 - val_accuracy: 0.6473\n",
            "Epoch 3/10\n",
            "1355/1355 [==============================] - 71s 52ms/step - loss: 0.9018 - accuracy: 0.6861 - val_loss: 0.9891 - val_accuracy: 0.6569\n",
            "Epoch 4/10\n",
            "1355/1355 [==============================] - 67s 49ms/step - loss: 0.7941 - accuracy: 0.7230 - val_loss: 1.0157 - val_accuracy: 0.6458\n",
            "Epoch 5/10\n",
            "1355/1355 [==============================] - 67s 49ms/step - loss: 0.6926 - accuracy: 0.7587 - val_loss: 0.9922 - val_accuracy: 0.6659\n",
            "Epoch 6/10\n",
            "1355/1355 [==============================] - 68s 50ms/step - loss: 0.6032 - accuracy: 0.7883 - val_loss: 1.0634 - val_accuracy: 0.6579\n",
            "Epoch 7/10\n",
            "1355/1355 [==============================] - 65s 48ms/step - loss: 0.5132 - accuracy: 0.8191 - val_loss: 1.0100 - val_accuracy: 0.6831\n",
            "Epoch 8/10\n",
            "1355/1355 [==============================] - 70s 51ms/step - loss: 0.4342 - accuracy: 0.8462 - val_loss: 1.1658 - val_accuracy: 0.6661\n",
            "Epoch 9/10\n",
            "1355/1355 [==============================] - 72s 53ms/step - loss: 0.3637 - accuracy: 0.8729 - val_loss: 1.1575 - val_accuracy: 0.6748\n",
            "Epoch 10/10\n",
            "1355/1355 [==============================] - 67s 50ms/step - loss: 0.2899 - accuracy: 0.8976 - val_loss: 1.3628 - val_accuracy: 0.6603\n"
          ]
        }
      ]
    },
    {
      "cell_type": "code",
      "source": [
        "y_train_pred_labels = wd_model.predict(x_train).argmax(axis=1)\n",
        "y_val_pred_labels = wd_model.predict(x_val).argmax(axis=1)\n",
        "y_test_pred_labels = wd_model.predict(x_test).argmax(axis=1)\n",
        "\n",
        "train_accuracy = accuracy_score(y_train, y_train_pred_labels)\n",
        "val_accuracy = accuracy_score(y_val, y_val_pred_labels)\n",
        "test_accuracy = accuracy_score(y_test, y_test_pred_labels)\n",
        "\n",
        "train_f1 = f1_score(y_train, y_train_pred_labels, average='weighted')\n",
        "val_f1 = f1_score(y_val, y_val_pred_labels, average='weighted')\n",
        "test_f1 = f1_score(y_test, y_test_pred_labels, average='weighted')\n",
        "\n",
        "data = {\n",
        "    'Dataset': ['Train', 'Validation', 'Test'],\n",
        "    'Accuracy': [train_accuracy, val_accuracy, test_accuracy],\n",
        "    'F1 Score': [train_f1, val_f1, test_f1]\n",
        "}\n",
        "\n",
        "results_df = pd.DataFrame(data)\n",
        "\n",
        "table = tabulate(results_df, headers='keys', tablefmt='fancy_grid')\n",
        "\n",
        "print(table)"
      ],
      "metadata": {
        "colab": {
          "base_uri": "https://localhost:8080/"
        },
        "id": "1FLEvKC1IMph",
        "outputId": "3018ae4b-d9f2-43f7-b52f-f0a5fef73eaf"
      },
      "id": "1FLEvKC1IMph",
      "execution_count": 17,
      "outputs": [
        {
          "output_type": "stream",
          "name": "stdout",
          "text": [
            "1355/1355 [==============================] - 21s 15ms/step\n",
            "240/240 [==============================] - 5s 21ms/step\n",
            "282/282 [==============================] - 3s 12ms/step\n",
            "╒════╤════════════╤════════════╤════════════╕\n",
            "│    │ Dataset    │   Accuracy │   F1 Score │\n",
            "╞════╪════════════╪════════════╪════════════╡\n",
            "│  0 │ Train      │   0.928766 │   0.928694 │\n",
            "├────┼────────────┼────────────┼────────────┤\n",
            "│  1 │ Validation │   0.660261 │   0.65956  │\n",
            "├────┼────────────┼────────────┼────────────┤\n",
            "│  2 │ Test       │   0.656    │   0.656062 │\n",
            "╘════╧════════════╧════════════╧════════════╛\n"
          ]
        }
      ]
    }
  ],
  "metadata": {
    "kernelspec": {
      "display_name": "Python 3 (ipykernel)",
      "language": "python",
      "name": "python3"
    },
    "language_info": {
      "codemirror_mode": {
        "name": "ipython",
        "version": 3
      },
      "file_extension": ".py",
      "mimetype": "text/x-python",
      "name": "python",
      "nbconvert_exporter": "python",
      "pygments_lexer": "ipython3",
      "version": "3.11.3"
    },
    "colab": {
      "provenance": []
    }
  },
  "nbformat": 4,
  "nbformat_minor": 5
}